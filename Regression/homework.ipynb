{
 "cells": [
  {
   "cell_type": "markdown",
   "id": "90c75e8a",
   "metadata": {},
   "source": [
    "# Homework 2"
   ]
  },
  {
   "cell_type": "code",
   "execution_count": 1,
   "id": "92d12c25",
   "metadata": {},
   "outputs": [],
   "source": [
    "import numpy as np\n",
    "import pandas as pd \n",
    "import matplotlib.pyplot as plt \n",
    "import seaborn as sns\n",
    "\n",
    "%matplotlib inline"
   ]
  },
  {
   "cell_type": "code",
   "execution_count": 2,
   "id": "a766837f",
   "metadata": {},
   "outputs": [
    {
     "data": {
      "text/html": [
       "<div>\n",
       "<style scoped>\n",
       "    .dataframe tbody tr th:only-of-type {\n",
       "        vertical-align: middle;\n",
       "    }\n",
       "\n",
       "    .dataframe tbody tr th {\n",
       "        vertical-align: top;\n",
       "    }\n",
       "\n",
       "    .dataframe thead th {\n",
       "        text-align: right;\n",
       "    }\n",
       "</style>\n",
       "<table border=\"1\" class=\"dataframe\">\n",
       "  <thead>\n",
       "    <tr style=\"text-align: right;\">\n",
       "      <th></th>\n",
       "      <th>engine_displacement</th>\n",
       "      <th>num_cylinders</th>\n",
       "      <th>horsepower</th>\n",
       "      <th>vehicle_weight</th>\n",
       "      <th>acceleration</th>\n",
       "      <th>model_year</th>\n",
       "      <th>origin</th>\n",
       "      <th>fuel_type</th>\n",
       "      <th>drivetrain</th>\n",
       "      <th>num_doors</th>\n",
       "      <th>fuel_efficiency_mpg</th>\n",
       "    </tr>\n",
       "  </thead>\n",
       "  <tbody>\n",
       "    <tr>\n",
       "      <th>0</th>\n",
       "      <td>170</td>\n",
       "      <td>3.0</td>\n",
       "      <td>159.0</td>\n",
       "      <td>3413.433759</td>\n",
       "      <td>17.7</td>\n",
       "      <td>2003</td>\n",
       "      <td>Europe</td>\n",
       "      <td>Gasoline</td>\n",
       "      <td>All-wheel drive</td>\n",
       "      <td>0.0</td>\n",
       "      <td>13.231729</td>\n",
       "    </tr>\n",
       "    <tr>\n",
       "      <th>1</th>\n",
       "      <td>130</td>\n",
       "      <td>5.0</td>\n",
       "      <td>97.0</td>\n",
       "      <td>3149.664934</td>\n",
       "      <td>17.8</td>\n",
       "      <td>2007</td>\n",
       "      <td>USA</td>\n",
       "      <td>Gasoline</td>\n",
       "      <td>Front-wheel drive</td>\n",
       "      <td>0.0</td>\n",
       "      <td>13.688217</td>\n",
       "    </tr>\n",
       "    <tr>\n",
       "      <th>2</th>\n",
       "      <td>170</td>\n",
       "      <td>NaN</td>\n",
       "      <td>78.0</td>\n",
       "      <td>3079.038997</td>\n",
       "      <td>15.1</td>\n",
       "      <td>2018</td>\n",
       "      <td>Europe</td>\n",
       "      <td>Gasoline</td>\n",
       "      <td>Front-wheel drive</td>\n",
       "      <td>0.0</td>\n",
       "      <td>14.246341</td>\n",
       "    </tr>\n",
       "    <tr>\n",
       "      <th>3</th>\n",
       "      <td>220</td>\n",
       "      <td>4.0</td>\n",
       "      <td>NaN</td>\n",
       "      <td>2542.392402</td>\n",
       "      <td>20.2</td>\n",
       "      <td>2009</td>\n",
       "      <td>USA</td>\n",
       "      <td>Diesel</td>\n",
       "      <td>All-wheel drive</td>\n",
       "      <td>2.0</td>\n",
       "      <td>16.912736</td>\n",
       "    </tr>\n",
       "    <tr>\n",
       "      <th>4</th>\n",
       "      <td>210</td>\n",
       "      <td>1.0</td>\n",
       "      <td>140.0</td>\n",
       "      <td>3460.870990</td>\n",
       "      <td>14.4</td>\n",
       "      <td>2009</td>\n",
       "      <td>Europe</td>\n",
       "      <td>Gasoline</td>\n",
       "      <td>All-wheel drive</td>\n",
       "      <td>2.0</td>\n",
       "      <td>12.488369</td>\n",
       "    </tr>\n",
       "  </tbody>\n",
       "</table>\n",
       "</div>"
      ],
      "text/plain": [
       "   engine_displacement  num_cylinders  horsepower  vehicle_weight  \\\n",
       "0                  170            3.0       159.0     3413.433759   \n",
       "1                  130            5.0        97.0     3149.664934   \n",
       "2                  170            NaN        78.0     3079.038997   \n",
       "3                  220            4.0         NaN     2542.392402   \n",
       "4                  210            1.0       140.0     3460.870990   \n",
       "\n",
       "   acceleration  model_year  origin fuel_type         drivetrain  num_doors  \\\n",
       "0          17.7        2003  Europe  Gasoline    All-wheel drive        0.0   \n",
       "1          17.8        2007     USA  Gasoline  Front-wheel drive        0.0   \n",
       "2          15.1        2018  Europe  Gasoline  Front-wheel drive        0.0   \n",
       "3          20.2        2009     USA    Diesel    All-wheel drive        2.0   \n",
       "4          14.4        2009  Europe  Gasoline    All-wheel drive        2.0   \n",
       "\n",
       "   fuel_efficiency_mpg  \n",
       "0            13.231729  \n",
       "1            13.688217  \n",
       "2            14.246341  \n",
       "3            16.912736  \n",
       "4            12.488369  "
      ]
     },
     "execution_count": 2,
     "metadata": {},
     "output_type": "execute_result"
    }
   ],
   "source": [
    "df = pd.read_csv(\"car_fuel_efficiency.csv\")\n",
    "df.head()"
   ]
  },
  {
   "cell_type": "code",
   "execution_count": 3,
   "id": "39c1586b",
   "metadata": {},
   "outputs": [
    {
     "data": {
      "text/html": [
       "<div>\n",
       "<style scoped>\n",
       "    .dataframe tbody tr th:only-of-type {\n",
       "        vertical-align: middle;\n",
       "    }\n",
       "\n",
       "    .dataframe tbody tr th {\n",
       "        vertical-align: top;\n",
       "    }\n",
       "\n",
       "    .dataframe thead th {\n",
       "        text-align: right;\n",
       "    }\n",
       "</style>\n",
       "<table border=\"1\" class=\"dataframe\">\n",
       "  <thead>\n",
       "    <tr style=\"text-align: right;\">\n",
       "      <th></th>\n",
       "      <th>engine_displacement</th>\n",
       "      <th>horsepower</th>\n",
       "      <th>vehicle_weight</th>\n",
       "      <th>model_year</th>\n",
       "      <th>fuel_efficiency_mpg</th>\n",
       "    </tr>\n",
       "  </thead>\n",
       "  <tbody>\n",
       "    <tr>\n",
       "      <th>0</th>\n",
       "      <td>170</td>\n",
       "      <td>159.0</td>\n",
       "      <td>3413.433759</td>\n",
       "      <td>2003</td>\n",
       "      <td>13.231729</td>\n",
       "    </tr>\n",
       "    <tr>\n",
       "      <th>1</th>\n",
       "      <td>130</td>\n",
       "      <td>97.0</td>\n",
       "      <td>3149.664934</td>\n",
       "      <td>2007</td>\n",
       "      <td>13.688217</td>\n",
       "    </tr>\n",
       "    <tr>\n",
       "      <th>2</th>\n",
       "      <td>170</td>\n",
       "      <td>78.0</td>\n",
       "      <td>3079.038997</td>\n",
       "      <td>2018</td>\n",
       "      <td>14.246341</td>\n",
       "    </tr>\n",
       "    <tr>\n",
       "      <th>3</th>\n",
       "      <td>220</td>\n",
       "      <td>NaN</td>\n",
       "      <td>2542.392402</td>\n",
       "      <td>2009</td>\n",
       "      <td>16.912736</td>\n",
       "    </tr>\n",
       "    <tr>\n",
       "      <th>4</th>\n",
       "      <td>210</td>\n",
       "      <td>140.0</td>\n",
       "      <td>3460.870990</td>\n",
       "      <td>2009</td>\n",
       "      <td>12.488369</td>\n",
       "    </tr>\n",
       "    <tr>\n",
       "      <th>...</th>\n",
       "      <td>...</td>\n",
       "      <td>...</td>\n",
       "      <td>...</td>\n",
       "      <td>...</td>\n",
       "      <td>...</td>\n",
       "    </tr>\n",
       "    <tr>\n",
       "      <th>9699</th>\n",
       "      <td>140</td>\n",
       "      <td>164.0</td>\n",
       "      <td>2981.107371</td>\n",
       "      <td>2013</td>\n",
       "      <td>15.101802</td>\n",
       "    </tr>\n",
       "    <tr>\n",
       "      <th>9700</th>\n",
       "      <td>180</td>\n",
       "      <td>154.0</td>\n",
       "      <td>2439.525729</td>\n",
       "      <td>2004</td>\n",
       "      <td>17.962326</td>\n",
       "    </tr>\n",
       "    <tr>\n",
       "      <th>9701</th>\n",
       "      <td>220</td>\n",
       "      <td>138.0</td>\n",
       "      <td>2583.471318</td>\n",
       "      <td>2008</td>\n",
       "      <td>17.186587</td>\n",
       "    </tr>\n",
       "    <tr>\n",
       "      <th>9702</th>\n",
       "      <td>230</td>\n",
       "      <td>177.0</td>\n",
       "      <td>2905.527390</td>\n",
       "      <td>2011</td>\n",
       "      <td>15.331551</td>\n",
       "    </tr>\n",
       "    <tr>\n",
       "      <th>9703</th>\n",
       "      <td>270</td>\n",
       "      <td>140.0</td>\n",
       "      <td>2908.043477</td>\n",
       "      <td>2005</td>\n",
       "      <td>14.884467</td>\n",
       "    </tr>\n",
       "  </tbody>\n",
       "</table>\n",
       "<p>9704 rows × 5 columns</p>\n",
       "</div>"
      ],
      "text/plain": [
       "      engine_displacement  horsepower  vehicle_weight  model_year  \\\n",
       "0                     170       159.0     3413.433759        2003   \n",
       "1                     130        97.0     3149.664934        2007   \n",
       "2                     170        78.0     3079.038997        2018   \n",
       "3                     220         NaN     2542.392402        2009   \n",
       "4                     210       140.0     3460.870990        2009   \n",
       "...                   ...         ...             ...         ...   \n",
       "9699                  140       164.0     2981.107371        2013   \n",
       "9700                  180       154.0     2439.525729        2004   \n",
       "9701                  220       138.0     2583.471318        2008   \n",
       "9702                  230       177.0     2905.527390        2011   \n",
       "9703                  270       140.0     2908.043477        2005   \n",
       "\n",
       "      fuel_efficiency_mpg  \n",
       "0               13.231729  \n",
       "1               13.688217  \n",
       "2               14.246341  \n",
       "3               16.912736  \n",
       "4               12.488369  \n",
       "...                   ...  \n",
       "9699            15.101802  \n",
       "9700            17.962326  \n",
       "9701            17.186587  \n",
       "9702            15.331551  \n",
       "9703            14.884467  \n",
       "\n",
       "[9704 rows x 5 columns]"
      ]
     },
     "execution_count": 3,
     "metadata": {},
     "output_type": "execute_result"
    }
   ],
   "source": [
    "df_select = df[[\"engine_displacement\", \"horsepower\", \"vehicle_weight\", \"model_year\", \"fuel_efficiency_mpg\"]]\n",
    "df_select"
   ]
  },
  {
   "cell_type": "code",
   "execution_count": 5,
   "id": "fd46962c",
   "metadata": {},
   "outputs": [
    {
     "data": {
      "text/plain": [
       "<Axes: xlabel='fuel_efficiency_mpg', ylabel='Count'>"
      ]
     },
     "execution_count": 5,
     "metadata": {},
     "output_type": "execute_result"
    },
    {
     "data": {
      "image/png": "[encoded data removed]",
      "text/plain": [
       "<Figure size 640x480 with 1 Axes>"
      ]
     },
     "metadata": {},
     "output_type": "display_data"
    }
   ],
   "source": [
    "sns.histplot(df_select.fuel_efficiency_mpg, color=\"red\")\n",
    "\n",
    "# fuel efficiency miles per gallon is a perfect display of a normal distribution"
   ]
  },
  {
   "cell_type": "code",
   "execution_count": 7,
   "id": "939b6d8f",
   "metadata": {},
   "outputs": [
    {
     "data": {
      "text/plain": [
       "engine_displacement      0\n",
       "horsepower             708\n",
       "vehicle_weight           0\n",
       "model_year               0\n",
       "fuel_efficiency_mpg      0\n",
       "dtype: int64"
      ]
     },
     "execution_count": 7,
     "metadata": {},
     "output_type": "execute_result"
    }
   ],
   "source": [
    "df_select.isnull().sum()"
   ]
  },
  {
   "cell_type": "code",
   "execution_count": 8,
   "id": "6297b316",
   "metadata": {},
   "outputs": [
    {
     "data": {
      "text/plain": [
       "np.float64(149.0)"
      ]
     },
     "execution_count": 8,
     "metadata": {},
     "output_type": "execute_result"
    }
   ],
   "source": [
    "df_select.horsepower.median()"
   ]
  },
  {
   "cell_type": "code",
   "execution_count": 15,
   "id": "88c166d1",
   "metadata": {},
   "outputs": [
    {
     "data": {
      "text/plain": [
       "(5824, 1940, 1940)"
      ]
     },
     "execution_count": 15,
     "metadata": {},
     "output_type": "execute_result"
    }
   ],
   "source": [
    "np.random.seed(42)\n",
    "length = len(df_select)\n",
    "\n",
    "n_val = n_test = int((1/5 * length))\n",
    "n_train = int(length - (2*n_val))\n",
    "\n",
    "assert sum([n_train, n_val, n_test]) == length\n",
    "\n",
    "n_train, n_val, n_test"
   ]
  },
  {
   "cell_type": "code",
   "execution_count": 14,
   "id": "44e9e16f",
   "metadata": {},
   "outputs": [
    {
     "data": {
      "text/plain": [
       "array([ 483, 7506, 8795, 1688, 6217, 4562, 5885, 3746, 7109, 2698])"
      ]
     },
     "execution_count": 14,
     "metadata": {},
     "output_type": "execute_result"
    }
   ],
   "source": [
    "idx = np.arange(length)\n",
    "np.random.shuffle(idx)\n",
    "\n",
    "idx[:10]"
   ]
  },
  {
   "cell_type": "code",
   "execution_count": 121,
   "id": "117a221a",
   "metadata": {},
   "outputs": [],
   "source": [
    "df_train = df_select.iloc[idx[:n_train]]\n",
    "df_val = df_select.iloc[idx[n_train:n_train+n_test]]\n",
    "df_test = df_select.iloc[idx[n_train+n_test:]]"
   ]
  },
  {
   "cell_type": "code",
   "execution_count": 33,
   "id": "c0d1a6a2",
   "metadata": {},
   "outputs": [
    {
     "data": {
      "text/plain": [
       "True"
      ]
     },
     "execution_count": 33,
     "metadata": {},
     "output_type": "execute_result"
    }
   ],
   "source": [
    "True in list(df.horsepower.isnull().value_counts().index)"
   ]
  },
  {
   "cell_type": "code",
   "execution_count": 34,
   "id": "2afb580a",
   "metadata": {},
   "outputs": [],
   "source": [
    "\n",
    "# all functions to be used\n",
    "\n",
    "def prepare_X_fill_zero(df):\n",
    "    df = df.copy()\n",
    "    base = df.columns[df.columns != \"fuel_efficiency_mpg\"]\n",
    "    df = df.fillna(0)\n",
    "    return df[base].values"
   ]
  },
  {
   "cell_type": "code",
   "execution_count": 69,
   "id": "f9eb240e",
   "metadata": {},
   "outputs": [],
   "source": [
    "\n",
    "def prepare_X_fill_mean(df):\n",
    "    df = df.copy()\n",
    "    base = df.columns[df.columns != \"fuel_efficiency_mpg\"]\n",
    "    df = df[base]\n",
    "    for i in base:\n",
    "        if True in list(df[i].isnull().value_counts().index):\n",
    "            mean = df_train[i].mean()\n",
    "            df[i] = df[i].fillna(mean)\n",
    "    return df.values"
   ]
  },
  {
   "cell_type": "code",
   "execution_count": 39,
   "metadata": {},
   "outputs": [],
   "source": [
    "def prepare_Y(df):\n",
    "    return df.fuel_efficiency_mpg.values"
   ]
  },
  {
   "cell_type": "code",
   "execution_count": 94,
   "id": "ab05a667",
   "metadata": {},
   "outputs": [
    {
     "data": {
      "text/plain": [
       "array([[ 220.        ,  144.        , 2535.88759124, 2009.        ],\n",
       "       [ 160.        ,  141.        , 2741.17048439, 2019.        ],\n",
       "       [ 230.        ,  155.        , 2471.88023726, 2017.        ],\n",
       "       ...,\n",
       "       [ 210.        ,  152.        , 2500.17568746, 2020.        ],\n",
       "       [ 250.        ,  154.        , 2254.31324473, 2002.        ],\n",
       "       [ 210.        ,  152.        , 2435.20360628, 2004.        ]],\n",
       "      shape=(5824, 4))"
      ]
     },
     "execution_count": 94,
     "metadata": {},
     "output_type": "execute_result"
    }
   ],
   "source": [
    "# with z for filling mean values\n",
    "X_train = prepare_X_fill_mean(df_train)\n",
    "y_train = prepare_Y(df_train)\n",
    "\n",
    "X_train"
   ]
  },
  {
   "cell_type": "code",
   "execution_count": 77,
   "id": "6b1634de",
   "metadata": {},
   "outputs": [
    {
     "data": {
      "text/plain": [
       "(array([1., 1., 1., ..., 1., 1., 1.], shape=(5824,)), (5824, 4))"
      ]
     },
     "execution_count": 77,
     "metadata": {},
     "output_type": "execute_result"
    }
   ],
   "source": [
    "ones = np.ones(X_train.shape[0])\n",
    "ones, X_train.shape"
   ]
  },
  {
   "cell_type": "code",
   "execution_count": 78,
   "id": "09d05de2",
   "metadata": {},
   "outputs": [],
   "source": [
    "X = np.column_stack([ones, X_train])"
   ]
  },
  {
   "cell_type": "code",
   "execution_count": 79,
   "id": "09368a70",
   "metadata": {},
   "outputs": [
    {
     "data": {
      "text/plain": [
       "array([[1.00000000e+00, 1.00000000e+00, 1.00000000e+00, ...,\n",
       "        1.00000000e+00, 1.00000000e+00, 1.00000000e+00],\n",
       "       [2.20000000e+02, 1.60000000e+02, 2.30000000e+02, ...,\n",
       "        2.10000000e+02, 2.50000000e+02, 2.10000000e+02],\n",
       "       [1.44000000e+02, 1.41000000e+02, 1.55000000e+02, ...,\n",
       "        1.52000000e+02, 1.54000000e+02, 1.52000000e+02],\n",
       "       [2.53588759e+03, 2.74117048e+03, 2.47188024e+03, ...,\n",
       "        2.50017569e+03, 2.25431324e+03, 2.43520361e+03],\n",
       "       [2.00900000e+03, 2.01900000e+03, 2.01700000e+03, ...,\n",
       "        2.02000000e+03, 2.00200000e+03, 2.00400000e+03]], shape=(5, 5824))"
      ]
     },
     "execution_count": 79,
     "metadata": {},
     "output_type": "execute_result"
    }
   ],
   "source": [
    "XTX = X.T\n",
    "XTX"
   ]
  },
  {
   "cell_type": "code",
   "execution_count": 80,
   "id": "5da0b4f2",
   "metadata": {},
   "outputs": [
    {
     "data": {
      "text/plain": [
       "array([[5.82400000e+03, 1.16148000e+06, 8.70948704e+05, 1.75108631e+07,\n",
       "        1.17146540e+07],\n",
       "       [1.16148000e+06, 2.45926600e+08, 1.73604883e+08, 3.49103053e+09,\n",
       "        2.33622676e+09],\n",
       "       [8.70948704e+05, 1.73604883e+08, 1.34975178e+08, 2.61742080e+09,\n",
       "        1.75188651e+09],\n",
       "       [1.75108631e+07, 3.49103053e+09, 2.61742080e+09, 5.40927359e+10,\n",
       "        3.52219266e+10],\n",
       "       [1.17146540e+07, 2.33622676e+09, 1.75188651e+09, 3.52219266e+10,\n",
       "        2.35636378e+10]])"
      ]
     },
     "execution_count": 80,
     "metadata": {},
     "output_type": "execute_result"
    }
   ],
   "source": [
    "XG = XTX.dot(X)\n",
    "XG"
   ]
  },
  {
   "cell_type": "code",
   "execution_count": 81,
   "id": "6b1c48d6",
   "metadata": {},
   "outputs": [
    {
     "data": {
      "text/plain": [
       "array([[ 1.56479226e+01, -2.83628781e-05,  2.09460768e-06,\n",
       "        -3.21539945e-06, -7.77189647e-03],\n",
       "       [-2.83628781e-05,  6.99911867e-08,  1.29155833e-09,\n",
       "         5.83542616e-11,  6.97803996e-09],\n",
       "       [ 2.09460768e-06,  1.29155833e-09,  2.11593818e-07,\n",
       "         1.79945171e-10, -1.71697321e-08],\n",
       "       [-3.21539945e-06,  5.83542616e-11,  1.79945171e-10,\n",
       "         6.93136402e-10,  5.43299823e-10],\n",
       "       [-7.77189647e-03,  6.97803997e-09, -1.71697321e-08,\n",
       "         5.43299823e-10,  3.86361052e-06]])"
      ]
     },
     "execution_count": 81,
     "metadata": {},
     "output_type": "execute_result"
    }
   ],
   "source": [
    "\n",
    "XG_inv = np.linalg.inv(XG)\n",
    "XG_inv"
   ]
  },
  {
   "cell_type": "code",
   "execution_count": 82,
   "id": "c84f71ce",
   "metadata": {},
   "outputs": [
    {
     "data": {
      "text/plain": [
       "(np.float64(28.925259951002698),\n",
       " array([ 0.00012093,  0.01030308, -0.00501009, -0.00023463]))"
      ]
     },
     "execution_count": 82,
     "metadata": {},
     "output_type": "execute_result"
    }
   ],
   "source": [
    "w_out = XG_inv.dot(XTX).dot(y_train)\n",
    "w_out[0], w_out[1:]"
   ]
  },
  {
   "cell_type": "code",
   "execution_count": 89,
   "id": "9889c3a1",
   "metadata": {},
   "outputs": [],
   "source": [
    "\n",
    "def linear_regression(X, y):\n",
    "    \n",
    "    ones = np.ones(X.shape[0])\n",
    "    X = np.column_stack([ones, X])\n",
    "    \n",
    "    XTX = X.T\n",
    "    XG = XTX.dot(X)\n",
    "    XG_inv = np.linalg.inv(XG)\n",
    "    w_out = XG_inv.dot(XTX).dot(y)\n",
    "    \n",
    "    return w_out[0], w_out[1:]\n"
   ]
  },
  {
   "cell_type": "code",
   "execution_count": 90,
   "id": "43cc6337",
   "metadata": {},
   "outputs": [],
   "source": [
    "def rmse(y, y_pred):\n",
    "    error = y - y_pred\n",
    "    se = error ** 2\n",
    "    mse = se.mean()\n",
    "    \n",
    "    return np.sqrt(mse)"
   ]
  },
  {
   "cell_type": "code",
   "execution_count": 95,
   "id": "d79d476f",
   "metadata": {},
   "outputs": [
    {
     "data": {
      "text/plain": [
       "array([16.64294342, 16.29837715, 18.59182197, ..., 17.59323665,\n",
       "       18.92574819, 17.96528447], shape=(5824,))"
      ]
     },
     "execution_count": 95,
     "metadata": {},
     "output_type": "execute_result"
    }
   ],
   "source": [
    "y_train"
   ]
  },
  {
   "cell_type": "code",
   "execution_count": 96,
   "id": "65b6ca47",
   "metadata": {},
   "outputs": [
    {
     "data": {
      "text/plain": [
       "(np.float64(28.925259951002698),\n",
       " array([ 0.00012093,  0.01030308, -0.00501009, -0.00023463]))"
      ]
     },
     "execution_count": 96,
     "metadata": {},
     "output_type": "execute_result"
    }
   ],
   "source": [
    "w0, w = linear_regression(X_train, y_train)\n",
    "w0, w"
   ]
  },
  {
   "cell_type": "code",
   "execution_count": 97,
   "id": "440cb173",
   "metadata": {},
   "outputs": [
    {
     "data": {
      "text/plain": [
       "array([17.25910991, 16.19011261, 17.6924588 , ..., 17.51666431,\n",
       "       18.77812427, 17.84593445], shape=(5824,))"
      ]
     },
     "execution_count": 97,
     "metadata": {},
     "output_type": "execute_result"
    }
   ],
   "source": [
    "y_pred = w0 + X_train.dot(w)\n",
    "y_pred"
   ]
  },
  {
   "cell_type": "code",
   "execution_count": 98,
   "id": "a5a59bbf",
   "metadata": {},
   "outputs": [
    {
     "data": {
      "text/plain": [
       "np.float64(0.4624412137959964)"
      ]
     },
     "execution_count": 98,
     "metadata": {},
     "output_type": "execute_result"
    }
   ],
   "source": [
    "rmse(y_train, y_pred)"
   ]
  },
  {
   "cell_type": "code",
   "execution_count": 99,
   "id": "f570c476",
   "metadata": {},
   "outputs": [
    {
     "data": {
      "text/plain": [
       "np.float64(0.5202614265099076)"
      ]
     },
     "execution_count": 99,
     "metadata": {},
     "output_type": "execute_result"
    }
   ],
   "source": [
    "# using zero now\n",
    "X_train = prepare_X_fill_zero(df_train)\n",
    "y_train = prepare_Y(df_train)\n",
    "\n",
    "w0, w = linear_regression(X_train, y_train)\n",
    "\n",
    "y_pred = w0 + X_train.dot(w)\n",
    "\n",
    "rmse(y_train, y_pred)"
   ]
  },
  {
   "cell_type": "code",
   "execution_count": 122,
   "id": "8dd6cb86",
   "metadata": {},
   "outputs": [],
   "source": [
    "def linear_regression_reg(X, y, r=0):\n",
    "    \n",
    "    ones = np.ones(X.shape[0])\n",
    "    X = np.column_stack([ones, X])\n",
    "    \n",
    "    XTX = X.T\n",
    "    XG = XTX.dot(X)\n",
    "    \n",
    "    XG = XG + r * np.eye(XG.shape[0])\n",
    "        \n",
    "    XG_inv = np.linalg.inv(XG)\n",
    "    w_out = XG_inv.dot(XTX).dot(y)\n",
    "    \n",
    "    return w_out[0], w_out[1:]\n"
   ]
  },
  {
   "cell_type": "code",
   "execution_count": 123,
   "id": "98d3b813",
   "metadata": {},
   "outputs": [
    {
     "name": "stdout",
     "output_type": "stream",
     "text": [
      "0 0.4624412137959964\n",
      "0.01 0.4626229085251904\n",
      "0.1 0.4661214368145096\n",
      "1 0.47112926676631467\n",
      "5 0.4720194152216065\n",
      "10 0.4721401918458205\n",
      "100 0.47225084810651846\n"
     ]
    }
   ],
   "source": [
    "X_train = prepare_X_fill_mean(df_train)\n",
    "y_train = prepare_Y(df_train)\n",
    "for r in [0, 0.01, 0.1, 1, 5, 10, 100]:\n",
    "    w0, w = linear_regression_reg(X_train, y_train, r=r)\n",
    "\n",
    "    y_pred = w0 + X_train.dot(w)\n",
    "\n",
    "    score = rmse(y_train, y_pred)\n",
    "    \n",
    "    print(r, score)"
   ]
  },
  {
   "cell_type": "code",
   "execution_count": 124,
   "id": "255c75ec",
   "metadata": {},
   "outputs": [
    {
     "name": "stdout",
     "output_type": "stream",
     "text": [
      "0 0.5202614265099076 28.82736547365895\n",
      "0.01 0.5204218435630923 24.92683841981215\n",
      "0.1 0.5235133030941316 11.239661084581073\n",
      "1 0.5279470264734079 1.7315979411219746\n",
      "5 0.528736166816663 0.3638075020482907\n",
      "10 0.5288432624577701 0.18306246621686947\n",
      "100 0.5289413891053159 0.01841801730688404\n"
     ]
    }
   ],
   "source": [
    "X_train = prepare_X_fill_zero(df_train)\n",
    "y_train = prepare_Y(df_train)\n",
    "for r in [0, 0.01, 0.1, 1, 5, 10, 100]:\n",
    "    w0, w = linear_regression_reg(X_train, y_train, r=r)\n",
    "\n",
    "    y_pred = w0 + X_train.dot(w)\n",
    "\n",
    "    score = rmse(y_train, y_pred)\n",
    "    \n",
    "    print(r, score, w0)"
   ]
  },
  {
   "cell_type": "code",
   "execution_count": 126,
   "id": "243d1c2f",
   "metadata": {},
   "outputs": [
    {
     "name": "stdout",
     "output_type": "stream",
     "text": [
      "0.01 0.5173132800749677 16.118120601786668\n",
      "0.1 0.5207438829190313 4.170783528409819\n",
      "1 0.5224016266041636 0.49579833334135015\n",
      "5 0.5225964463747996 0.10085731914406962\n",
      "10 0.5226214987140194 0.05054007474006013\n",
      "100 0.5226441825442993 0.0050703023715381\n"
     ]
    }
   ],
   "source": [
    "X_val = prepare_X_fill_zero(df_val)\n",
    "y_val = prepare_Y(df_val)\n",
    "for r in [0.01, 0.1, 1, 5, 10, 100]:\n",
    "    \n",
    "    w0, w = linear_regression_reg(X_val, y_val, r=r)\n",
    "\n",
    "    y_pred = w0 + X_val.dot(w)\n",
    "\n",
    "    score = rmse(y_val, y_pred)\n",
    "    \n",
    "    print(r, score, w0)"
   ]
  },
  {
   "cell_type": "code",
   "execution_count": 127,
   "id": "ba875a7f",
   "metadata": {},
   "outputs": [
    {
     "name": "stdout",
     "output_type": "stream",
     "text": [
      "0.01 0.46380943773264144 16.731527544525854\n",
      "0.1 0.46792801128299416 4.329678090854959\n",
      "1 0.46991506783626286 0.514692459704993\n",
      "5 0.4701484554557048 0.10470056156705675\n",
      "10 0.4701784652992413 0.05246569218208563\n",
      "100 0.4702056377719075 0.005263020711660127\n"
     ]
    }
   ],
   "source": [
    "X_val = prepare_X_fill_mean(df_val)\n",
    "y_val = prepare_Y(df_val)\n",
    "for r in [0.01, 0.1, 1, 5, 10, 100]:\n",
    "    \n",
    "    w0, w = linear_regression_reg(X_val, y_val, r=r)\n",
    "\n",
    "    y_pred = w0 + X_val.dot(w)\n",
    "\n",
    "    score = rmse(y_val, y_pred)\n",
    "    \n",
    "    print(r, score, w0)"
   ]
  },
  {
   "cell_type": "code",
   "execution_count": 144,
   "id": "ece445c8",
   "metadata": {},
   "outputs": [],
   "source": [
    "class TestingRandomSeeds:\n",
    "    \n",
    "    def __init__(self, df):\n",
    "        self.x_train, self.y_train = None, None\n",
    "        self.df = df\n",
    "        \n",
    "    def linear_regression(self):\n",
    "        self.setup()\n",
    "        w0, w = linear_regression(self.x_train, self.y_train)\n",
    "        return w0, w\n",
    "    \n",
    "    def setup_null(self):\n",
    "        self.x_train = prepare_X_fill_zero(self.df)\n",
    "        self.y_train = prepare_Y(self.df)\n",
    "        \n",
    "    def setup_mean(self):\n",
    "        self.x_train = prepare_X_fill_mean(self.df)\n",
    "        self.y_train = prepare_Y(self.df)\n",
    "        \n",
    "    def setup(self):\n",
    "        assert type(self.x_train) != None\n",
    "        assert type(self.y_train) != None\n",
    "        \n",
    "    def get_y_pred(self):\n",
    "        w0, w = self.linear_regression()\n",
    "        return w0 + self.x_train.dot(w)\n",
    "    \n",
    "    def get_rsme(self):\n",
    "        self.setup()\n",
    "        y_pred = self.get_y_pred()\n",
    "        return rmse(self.y_train, y_pred)\n",
    "    \n",
    "    def evaluate(self, x_val, y_val):\n",
    "        w0, w = self.linear_regression()\n",
    "        y_pred = w0 + x_val.dot(w)\n",
    "        return rmse(y_val, y_pred)"
   ]
  },
  {
   "cell_type": "code",
   "execution_count": 136,
   "id": "2160b682",
   "metadata": {},
   "outputs": [
    {
     "data": {
      "text/plain": [
       "np.float64(0.4624412137959964)"
      ]
     },
     "execution_count": 136,
     "metadata": {},
     "output_type": "execute_result"
    }
   ],
   "source": [
    "model = TestingRandomSeeds(df_train)\n",
    "\n",
    "model.setup_mean()\n",
    "model.get_rsme()"
   ]
  },
  {
   "cell_type": "code",
   "execution_count": 147,
   "id": "de8d4c48",
   "metadata": {},
   "outputs": [
    {
     "name": "stdout",
     "output_type": "stream",
     "text": [
      " 0: 0.5206531296294218 0.0\n",
      " 1: 0.521338891285577 0.0\n",
      " 2: 0.5228069974803171 0.0\n",
      " 3: 0.515951674119676 0.0\n",
      " 4: 0.5109129460053851 0.0\n",
      " 5: 0.52834064601107 0.0\n",
      " 6: 0.5313910658146311 0.0\n",
      " 7: 0.5090670387381733 0.0\n",
      " 8: 0.5147399129511132 0.0\n",
      " 9: 0.5131865908224594 0.0\n"
     ]
    }
   ],
   "source": [
    "for seed in [0, 1, 2, 3, 4, 5, 6, 7, 8, 9]:\n",
    "    np.random.seed(seed)\n",
    "    idx = np.arange(len(df))\n",
    "    np.random.shuffle(idx)\n",
    "    \n",
    "    df_train = df_select.iloc[idx[:n_train]]\n",
    "    df_val = df_select.iloc[idx[n_train:n_train+n_test]]\n",
    "    df_test = df_select.iloc[idx[n_train+n_test:]]\n",
    "    \n",
    "    x_val = prepare_X_fill_zero(df_val)\n",
    "    y_val = prepare_Y(df_val)\n",
    "    \n",
    "    model = TestingRandomSeeds(df_train)\n",
    "    model.setup_null()\n",
    "    \n",
    "    score = model.evaluate(x_val, y_val)\n",
    "    std = np.round(np.std(score), 10)\n",
    "    \n",
    "    print(f\" {seed}: {score} {std}\")"
   ]
  },
  {
   "cell_type": "code",
   "execution_count": 148,
   "id": "d112dde8",
   "metadata": {},
   "outputs": [
    {
     "name": "stdout",
     "output_type": "stream",
     "text": [
      " 9: 0.5158284328943364 0.0\n"
     ]
    }
   ],
   "source": [
    "np.random.seed(9)\n",
    "idx = np.arange(len(df))\n",
    "np.random.shuffle(idx)\n",
    "\n",
    "df_train = df_select.iloc[idx[:n_train]]\n",
    "df_val = df_select.iloc[idx[n_train:n_train+n_test]]\n",
    "df_test = df_select.iloc[idx[n_train+n_test:]]\n",
    "\n",
    "x_val = prepare_X_fill_zero(df_test)\n",
    "y_val = prepare_Y(df_test)\n",
    "\n",
    "model = TestingRandomSeeds(df_train)\n",
    "model.setup_null()\n",
    "\n",
    "score = model.evaluate(x_val, y_val)\n",
    "std = np.round(np.std(score), 10)\n",
    "\n",
    "print(f\" {seed}: {score} {std}\")"
   ]
  },
  {
   "cell_type": "code",
   "execution_count": null,
   "id": "da7f791b",
   "metadata": {},
   "outputs": [],
   "source": []
  }
 ],
 "metadata": {
  "kernelspec": {
   "display_name": "mlzoomcamp",
   "language": "python",
   "name": "python3"
  },
  "language_info": {
   "codemirror_mode": {
    "name": "ipython",
    "version": 3
   },
   "file_extension": ".py",
   "mimetype": "text/x-python",
   "name": "python",
   "nbconvert_exporter": "python",
   "pygments_lexer": "ipython3",
   "version": "3.12.3"
  }
 },
 "nbformat": 4,
 "nbformat_minor": 5
}
