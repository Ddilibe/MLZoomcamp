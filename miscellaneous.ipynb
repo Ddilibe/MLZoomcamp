{
 "cells": [
  {
   "cell_type": "code",
   "execution_count": 35,
   "id": "45b9a904",
   "metadata": {},
   "outputs": [],
   "source": [
    "from typing import Literal\n",
    "import numpy as np\n",
    "import pandas as pd\n",
    "\n",
    "DATATYPE=Literal['PB', 'DS']\n",
    "\n",
    "def entropy(dataset: np.ndarray | pd.Series | list, base: int= 10, datatype: DATATYPE = 'PB') -> float:\n",
    "    \n",
    "    VALID_DATATYPES = DATATYPE.__args__ \n",
    "    \n",
    "    cal = lambda x: x*log_base(x, base)\n",
    "    log_base = lambda x, b: (np.log(x)/np.log(b)) if x != 0 else 0\n",
    "    \n",
    "    assert datatype in VALID_DATATYPES, f\"Invalid datatype provided: '{datatype}'. Must be one of {VALID_DATATYPES}.\"\n",
    "    assert isinstance(dataset, pd.Series | np.ndarray | list), f\"Invalid datatype passed: '{type(dataset)}'. Must provide np.ndarray or pd.Series\"\n",
    "    \n",
    "    if isinstance(dataset, pd.Series):\n",
    "        dataset = dataset.to_numpy()\n",
    "        \n",
    "    if isinstance(dataset, list):\n",
    "        dataset = np.array(dataset)\n",
    "        \n",
    "    if len(dataset) == 0:\n",
    "        return 0\n",
    "    \n",
    "    if datatype == \"DS\":\n",
    "        unique = np.unique(dataset)\n",
    "        dataset = np.array([np.sum(dataset == i)/np.sum(dataset) for  i in unique])\n",
    "    return -np.sum(list(map(cal, dataset)))"
   ]
  },
  {
   "cell_type": "code",
   "execution_count": 34,
   "id": "73e4728d",
   "metadata": {},
   "outputs": [
    {
     "data": {
      "text/plain": [
       "np.True_"
      ]
     },
     "execution_count": 34,
     "metadata": {},
     "output_type": "execute_result"
    }
   ],
   "source": [
    "np.log2(0.5) == np.log(0.5)/np.log(2)"
   ]
  },
  {
   "cell_type": "code",
   "execution_count": 37,
   "id": "58b103b7",
   "metadata": {},
   "outputs": [
    {
     "data": {
      "text/plain": [
       "np.float64(1.0)"
      ]
     },
     "execution_count": 37,
     "metadata": {},
     "output_type": "execute_result"
    }
   ],
   "source": [
    "entropy([1/2, 1/2], base=2)"
   ]
  },
  {
   "cell_type": "code",
   "execution_count": null,
   "id": "52447624",
   "metadata": {},
   "outputs": [],
   "source": []
  }
 ],
 "metadata": {
  "kernelspec": {
   "display_name": "mlzoomcamp",
   "language": "python",
   "name": "python3"
  },
  "language_info": {
   "codemirror_mode": {
    "name": "ipython",
    "version": 3
   },
   "file_extension": ".py",
   "mimetype": "text/x-python",
   "name": "python",
   "nbconvert_exporter": "python",
   "pygments_lexer": "ipython3",
   "version": "3.12.3"
  }
 },
 "nbformat": 4,
 "nbformat_minor": 5
}
